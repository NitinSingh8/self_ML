{
  "nbformat": 4,
  "nbformat_minor": 0,
  "metadata": {
    "colab": {
      "name": "main.ipynb",
      "provenance": [],
      "authorship_tag": "ABX9TyP3n3wMHjsnz0ovD9eVgpYq",
      "include_colab_link": true
    },
    "kernelspec": {
      "name": "python3",
      "display_name": "Python 3"
    },
    "language_info": {
      "name": "python"
    }
  },
  "cells": [
    {
      "cell_type": "markdown",
      "metadata": {
        "id": "view-in-github",
        "colab_type": "text"
      },
      "source": [
        "<a href=\"https://colab.research.google.com/github/NitinSingh8/self_ML/blob/main/Numpy/main.ipynb\" target=\"_parent\"><img src=\"https://colab.research.google.com/assets/colab-badge.svg\" alt=\"Open In Colab\"/></a>"
      ]
    },
    {
      "cell_type": "markdown",
      "source": [
        "This file contain the all the concept which i know related to numpy."
      ],
      "metadata": {
        "id": "ZoUjUwiysCT8"
      }
    },
    {
      "cell_type": "code",
      "execution_count": 2,
      "metadata": {
        "id": "c87sRHfur4km"
      },
      "outputs": [],
      "source": [
        "import numpy as np"
      ]
    },
    {
      "cell_type": "code",
      "source": [
        "# Create an array\n",
        "arr = np.array([1,2,3,4])\n",
        "print(arr)\n",
        "print(arr.shape)\n",
        "print(arr.ndim)\n",
        "print(arr.size)\n",
        "print(arr.dtype)"
      ],
      "metadata": {
        "id": "B07bSDY3r9P8"
      },
      "execution_count": null,
      "outputs": []
    },
    {
      "cell_type": "code",
      "source": [
        "# different way to create an array\n",
        "\n",
        "# you can read the description of function by just hovering on it\n",
        "\n",
        "\n",
        "arr = np.arange(0,100 ,5)  \n",
        "print(arr)\n",
        "\n",
        "print()\n",
        "\n",
        "arr = np.random.rand(10)   \n",
        "print(arr)\n",
        "\n",
        "print()\n",
        "\n",
        "arr = np.random.randn(10)\n",
        "print(arr)\n",
        "\n",
        "print()\n",
        "arr = np.random.randint(10,100,size=(2,4))\n",
        "print(arr)\n",
        "\n",
        "print()\n",
        "\n",
        "arr = np.linspace(10 , 100, 10)\n",
        "print(arr)\n",
        "\n",
        "print()\n",
        "\n",
        "arr = np.zeros(shape=(2,3))\n",
        "print(arr)\n",
        "\n",
        "print()\n",
        "\n",
        "arr = np.ones((4,4))\n",
        "print(arr)\n",
        "\n",
        "print()\n",
        "\n",
        "arr = np.eye(5)\n",
        "print(arr)\n",
        "\n",
        "print()\n",
        "\n",
        "arr = np.full((2,4),10)\n",
        "print(arr)"
      ],
      "metadata": {
        "id": "4Qg6pi7-r8Pl",
        "colab": {
          "base_uri": "https://localhost:8080/"
        },
        "outputId": "62404a30-e37e-4d9b-a29d-47dae4029237"
      },
      "execution_count": 27,
      "outputs": [
        {
          "output_type": "stream",
          "name": "stdout",
          "text": [
            "[ 0  5 10 15 20 25 30 35 40 45 50 55 60 65 70 75 80 85 90 95]\n",
            "\n",
            "[0.98977815 0.28846111 0.28202571 0.42183351 0.50528397 0.83056606\n",
            " 0.56082332 0.60414662 0.77398608 0.84552729]\n",
            "\n",
            "[ 0.31236755  1.34186432 -0.37557107 -0.75490797 -0.05361336  0.61370477\n",
            " -1.73980063 -0.96436863  0.43324211 -0.94480792]\n",
            "\n",
            "[[72 44 31 75]\n",
            " [52 57 56 75]]\n",
            "\n",
            "[ 10.  20.  30.  40.  50.  60.  70.  80.  90. 100.]\n",
            "\n",
            "[[0. 0. 0.]\n",
            " [0. 0. 0.]]\n",
            "\n",
            "[[1. 1. 1. 1.]\n",
            " [1. 1. 1. 1.]\n",
            " [1. 1. 1. 1.]\n",
            " [1. 1. 1. 1.]]\n",
            "\n",
            "[[1. 0. 0. 0. 0.]\n",
            " [0. 1. 0. 0. 0.]\n",
            " [0. 0. 1. 0. 0.]\n",
            " [0. 0. 0. 1. 0.]\n",
            " [0. 0. 0. 0. 1.]]\n",
            "\n",
            "[[10 10 10 10]\n",
            " [10 10 10 10]]\n"
          ]
        }
      ]
    },
    {
      "cell_type": "code",
      "source": [
        "# accessing the data from numpy array\n",
        "\n",
        "arr = np.random.randint(10,100, size = (3,3))\n",
        "print(arr)\n",
        "\n",
        "print()\n",
        "print(arr[0]) # access 0th row in arr [another way is print(arr[0,:])]\n",
        "\n",
        "print() \n",
        "print(arr[:,0]) # access 0th column\n",
        "\n",
        "print()\n",
        "print(arr[2,1]) # access 2nd row and 1th column in arr\n",
        "\n"
      ],
      "metadata": {
        "id": "wmXgyP6StLvM"
      },
      "execution_count": null,
      "outputs": []
    },
    {
      "cell_type": "code",
      "source": [
        "# reshape and resize in numpy\n",
        "'''reshape = change the size and return the changed array but doesn't modify main array\n",
        "resize = change the size in main array does not return anything '''\n",
        "\n",
        "arr1 = np.random.randint(10,100,size=(2,4))\n",
        "print(arr1)\n",
        "\n",
        "print()\n",
        "# by reshape\n",
        "new_arr1 = arr1.reshape(4,2)\n",
        "print(new_arr1)\n",
        "\n",
        "print()\n",
        "\n",
        "# by resize\n",
        "arr1.resize(4,2) \n",
        "print(arr1)"
      ],
      "metadata": {
        "colab": {
          "base_uri": "https://localhost:8080/"
        },
        "id": "P6m0UI9RvY4l",
        "outputId": "98282929-4cbb-4d5d-f137-3d68107f8564"
      },
      "execution_count": 16,
      "outputs": [
        {
          "output_type": "stream",
          "name": "stdout",
          "text": [
            "[[68 63 46 24]\n",
            " [43 49 28 11]]\n",
            "\n",
            "[[68 63]\n",
            " [46 24]\n",
            " [43 49]\n",
            " [28 11]]\n",
            "\n",
            "[[68 63]\n",
            " [46 24]\n",
            " [43 49]\n",
            " [28 11]]\n"
          ]
        }
      ]
    },
    {
      "cell_type": "code",
      "source": [
        "# concatenate two array horizontally( keep in mind that array should have same no. of rows)\n",
        "arr1 = np.random.randint(10,100,size=(2,4))\n",
        "print(arr1)\n",
        "\n",
        "print()\n",
        "\n",
        "arr2 = np.random.randint(10,100,size=(2,2))\n",
        "print(arr2)\n",
        "\n",
        "print()\n",
        "\n",
        "\n",
        "# using concatenate function\n",
        "arr3 = np.concatenate((arr1,arr2),axis= 1) # axis = 1 means want to add horizontally\n",
        "print(arr3)\n",
        "\n",
        "print()\n",
        "\n",
        "# using hstack\n",
        "arr3 = np.hstack((arr1,arr2))\n",
        "print(arr3)"
      ],
      "metadata": {
        "colab": {
          "base_uri": "https://localhost:8080/"
        },
        "id": "QMF9QnYjwXzO",
        "outputId": "d8318c1c-6fa2-4d60-d4b9-443ba1e4d199"
      },
      "execution_count": 30,
      "outputs": [
        {
          "output_type": "stream",
          "name": "stdout",
          "text": [
            "[[97 32 76 30]\n",
            " [22 77 38 62]]\n",
            "\n",
            "[[17 31]\n",
            " [77 93]]\n",
            "\n",
            "[[97 32 76 30 17 31]\n",
            " [22 77 38 62 77 93]]\n",
            "\n",
            "[[97 32 76 30 17 31]\n",
            " [22 77 38 62 77 93]]\n"
          ]
        }
      ]
    },
    {
      "cell_type": "code",
      "source": [
        "# concatenate two array vertically( keep in mind that array should have same no. of columns)\n",
        "arr1 = np.random.randint(10,100,size=(2,4))\n",
        "print(arr1)\n",
        "\n",
        "print()\n",
        "\n",
        "arr2 = np.random.randint(10,100,size=(4,4))\n",
        "print(arr2)\n",
        "\n",
        "print()\n",
        "\n",
        "# using concatenate function\n",
        "arr3 = np.concatenate((arr1,arr2),axis= 0) # axis = 0 means want to add vertically\n",
        "print(arr3)\n",
        "\n",
        "print()\n",
        "\n",
        "# using vstack function\n",
        "arr3 = np.vstack((arr1,arr2))\n",
        "print(arr3)"
      ],
      "metadata": {
        "colab": {
          "base_uri": "https://localhost:8080/"
        },
        "id": "xJcfL-SVxcv-",
        "outputId": "b03e1906-084d-4af8-c7aa-8883b8097acd"
      },
      "execution_count": 31,
      "outputs": [
        {
          "output_type": "stream",
          "name": "stdout",
          "text": [
            "[[62 85 70 18]\n",
            " [12 49 11 13]]\n",
            "\n",
            "[[19 56 80 14]\n",
            " [28 49 48 82]\n",
            " [21 29 86 62]\n",
            " [66 50 81 18]]\n",
            "\n",
            "[[62 85 70 18]\n",
            " [12 49 11 13]\n",
            " [19 56 80 14]\n",
            " [28 49 48 82]\n",
            " [21 29 86 62]\n",
            " [66 50 81 18]]\n",
            "\n",
            "[[62 85 70 18]\n",
            " [12 49 11 13]\n",
            " [19 56 80 14]\n",
            " [28 49 48 82]\n",
            " [21 29 86 62]\n",
            " [66 50 81 18]]\n"
          ]
        }
      ]
    },
    {
      "cell_type": "code",
      "source": [
        "# scalar function in arr\n",
        "arr = np.random.randint(10,100,size = (4,4))\n",
        "print(arr)\n",
        "\n",
        "print()\n",
        "\n",
        "print(np.max(arr))\n",
        "print(np.argmax(arr))\n",
        "print(np.min(arr))\n",
        "print(np.argmin(arr))\n",
        "\n",
        "print(np.mean(arr))\n",
        "print(np.median(arr))\n",
        "print(np.std(arr))\n",
        "\n",
        "\n",
        "print(np.sqrt(arr))\n",
        "print(np.log(arr))\n",
        "print(np.exp(arr))\n",
        "print(np.sin(arr))"
      ],
      "metadata": {
        "colab": {
          "base_uri": "https://localhost:8080/"
        },
        "id": "RHlQOnatykft",
        "outputId": "bd982e99-ddae-4a16-e0db-39174e06b50a"
      },
      "execution_count": 40,
      "outputs": [
        {
          "output_type": "stream",
          "name": "stdout",
          "text": [
            "[[32 19 19 47]\n",
            " [56 41 66 23]\n",
            " [23 69 74 77]\n",
            " [38 41 41 31]]\n",
            "\n",
            "77\n",
            "11\n",
            "19\n",
            "1\n",
            "43.5625\n",
            "41.0\n",
            "18.96697376362397\n",
            "[[5.65685425 4.35889894 4.35889894 6.8556546 ]\n",
            " [7.48331477 6.40312424 8.1240384  4.79583152]\n",
            " [4.79583152 8.30662386 8.60232527 8.77496439]\n",
            " [6.164414   6.40312424 6.40312424 5.56776436]]\n",
            "[[3.4657359  2.94443898 2.94443898 3.8501476 ]\n",
            " [4.02535169 3.71357207 4.18965474 3.13549422]\n",
            " [3.13549422 4.2341065  4.30406509 4.34380542]\n",
            " [3.63758616 3.71357207 3.71357207 3.4339872 ]]\n",
            "[[7.89629602e+13 1.78482301e+08 1.78482301e+08 2.58131289e+20]\n",
            " [2.09165950e+24 6.39843494e+17 4.60718663e+28 9.74480345e+09]\n",
            " [9.74480345e+09 9.25378173e+29 1.37338298e+32 2.75851345e+33]\n",
            " [3.18559318e+16 6.39843494e+17 6.39843494e+17 2.90488497e+13]]\n",
            "[[ 0.55142668  0.14987721  0.14987721  0.12357312]\n",
            " [-0.521551   -0.15862267 -0.02655115 -0.8462204 ]\n",
            " [-0.8462204  -0.11478481 -0.98514626  0.99952016]\n",
            " [ 0.29636858 -0.15862267 -0.15862267 -0.40403765]]\n"
          ]
        }
      ]
    },
    {
      "cell_type": "code",
      "source": [
        "# determinant , inverse of matrix\n",
        "arr = np.random.randint(10,100,size=(4,4))\n",
        "print(arr)\n",
        "\n",
        "print()\n",
        "\n",
        "print(np.linalg.det(arr))\n",
        "\n",
        "print() \n",
        "\n",
        "print(np.linalg.inv(arr))\n"
      ],
      "metadata": {
        "colab": {
          "base_uri": "https://localhost:8080/"
        },
        "id": "Us5c0nBJ0AQO",
        "outputId": "0bfca00f-f4ef-4681-feff-76915500d9d5"
      },
      "execution_count": 45,
      "outputs": [
        {
          "output_type": "stream",
          "name": "stdout",
          "text": [
            "[[20 21 50 49]\n",
            " [79 29 46 75]\n",
            " [63 21 56 86]\n",
            " [96 80 31 28]]\n",
            "\n",
            "-608284.9999999971\n",
            "\n",
            "[[ 0.04863674  0.17084261 -0.16662255 -0.03095917]\n",
            " [-0.07370723 -0.22179242  0.21745892  0.05516493]\n",
            " [ 0.13480523  0.26084483 -0.2864644  -0.05474572]\n",
            " [-0.10541111 -0.24084599  0.26712314  0.04485726]]\n"
          ]
        }
      ]
    },
    {
      "cell_type": "code",
      "source": [
        ""
      ],
      "metadata": {
        "id": "FXLh98HN1nbn"
      },
      "execution_count": null,
      "outputs": []
    }
  ]
}